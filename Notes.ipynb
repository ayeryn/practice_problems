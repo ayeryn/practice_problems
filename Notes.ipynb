{
 "cells": [
  {
   "cell_type": "code",
   "execution_count": 4,
   "metadata": {},
   "outputs": [],
   "source": [
    "from collections import defaultdict, deque\n",
    "from heapq import *"
   ]
  },
  {
   "cell_type": "markdown",
   "metadata": {},
   "source": [
    "# Arrays\n",
    "## Two-Pointer\n",
    "### Two Sum II (sorted input)\n",
    "Given a *1-indexed* array of integers `numbers` that is already sorted in **non-decreasing** order, find two numbers such that they add up to a specific target number. Let these two numbers be `numbers[index1]` and `numbers[index2]` where `1 <= index1 < index2 <= numbers.length`.\n",
    "\n",
    "Return the indices of the two numbers, `index1` and `index2`, added by one as an integer array [index1, index2] of length 2.\n",
    "\n",
    "The tests are generated such that there is exactly one solution. You may not use the same element twice.\n",
    "\n",
    "Your solution must use only constant extra space."
   ]
  },
  {
   "cell_type": "code",
   "execution_count": 8,
   "metadata": {},
   "outputs": [],
   "source": [
    "def two_sum_sorted(numbers: list[int], target: int) -> list[int]:\n",
    "    left, right = 0, len(numbers) - 1\n",
    "\n",
    "    while left <= right:\n",
    "        if numbers[left] + numbers[right] == target:\n",
    "            return [left+1, right+1]\n",
    "\n",
    "        if numbers[left] + numbers[right] > target:\n",
    "            right -= 1\n",
    "        else:\n",
    "            left += 1"
   ]
  },
  {
   "cell_type": "markdown",
   "metadata": {},
   "source": [
    "\n",
    "\n",
    "### 3Sum\n",
    "Given an integer array `nums`, return all the triplets `[nums[i], nums[j], nums[k]]` where `nums[i] + nums[j] + nums[k] == 0`, and the indices `i, j and k` are all distinct.\n",
    "\n",
    "The output should not contain any duplicate triplets. You may return the output and the triplets in any order.\n",
    "\n",
    "**Example 1:**\n",
    "```\n",
    "Input: nums = [-1,0,1,2,-1,-4]\n",
    "Output: [[-1,-1,2],[-1,0,1]]\n",
    "```\n",
    "Explanation:\n",
    "nums[0] + nums[1] + nums[2] = (-1) + 0 + 1 = 0.\n",
    "\n",
    "\n",
    "nums[1] + nums[2] + nums[4] = 0 + 1 + (-1) = 0.\n",
    "\n",
    "nums[0] + nums[3] + nums[4] = (-1) + 2 + (-1) = 0.\n",
    "\n",
    "The distinct triplets are [-1,0,1] and [-1,-1,2].\n",
    "\n",
    "**Example 2:**\n",
    "```\n",
    "Input: nums = [0,1,1]\n",
    "Output: []\n",
    "```\n",
    "Explanation: The only possible triplet does not sum up to 0."
   ]
  },
  {
   "cell_type": "code",
   "execution_count": 9,
   "metadata": {},
   "outputs": [],
   "source": [
    "def three_sum(nums: list[int]) -> list[list[int]]:\n",
    "  ans = set()  # Avoid duplicates\n",
    "  nums.sort()\n",
    "  x = 0\n",
    "\n",
    "  while x < len(nums) and nums[x] <= 0:  # O(n)\n",
    "      # x has to be negative or 0 to yield a solution\n",
    "\n",
    "      left, right = x + 1, len(nums) - 1\n",
    "\n",
    "      while left < right:  # O(n)\n",
    "          if nums[left] + nums[right] == -nums[i]:\n",
    "              ans.add((nums[x], nums[left], nums[right]))\n",
    "              left += 1\n",
    "              right -= 1\n",
    "          elif nums[left] + nums[right] > -nums[x]:\n",
    "              right -= 1\n",
    "          else:\n",
    "              left += 1\n",
    "      x += 1\n",
    "\n",
    "  return ans"
   ]
  },
  {
   "cell_type": "markdown",
   "metadata": {},
   "source": [
    "\n",
    "## Sliding Window\n",
    "\n",
    "## Prefix Sum\n",
    "### Products of Array Discluding Self\n",
    "Given an integer array `nums`, return an array output where `output[i]` is the product of all the elements of `nums` except `nums[i]`.\n",
    "\n",
    "Each product is guaranteed to fit in a 32-bit integer.\n",
    "\n",
    "Follow-up: Could you solve it in $O(n)$ time without using the division operation?\n",
    "\n",
    "**Example 1:**\n",
    "```\n",
    "Input: nums = [1,2,4,6]\n",
    "Output: [48,24,12,8]\n",
    "```\n",
    "\n",
    "**Example 2:**\n",
    "```\n",
    "Input: nums = [-1,0,1,2,3]\n",
    "Output: [0,-6,0,0,0]\n",
    "```"
   ]
  },
  {
   "cell_type": "code",
   "execution_count": null,
   "metadata": {},
   "outputs": [],
   "source": [
    "def productExceptSelf(nums: list[int]) -> list[int]:\n",
    "    # Use two prefix_sum arrays\n",
    "    p_forward = [0] * len(nums)\n",
    "    p_backward = [0] * len(nums)\n",
    "\n",
    "    p_forward[0] = nums[0]\n",
    "    p_backward[-1] = nums[-1]\n",
    "\n",
    "    for i in range(1, len(nums)): # O(n)\n",
    "        p_forward[i] = nums[i] * p_forward[i - 1]\n",
    "    for i in range(len(nums) - 2, -1, -1): # O(n)\n",
    "        p_backward[i] = nums[i] * p_backward[i + 1]\n",
    "\n",
    "    ret = []\n",
    "    for i in range(len(nums)):  # O(n)\n",
    "        if i == 0:  # edge case\n",
    "            ret.append(p_backward[i + 1])\n",
    "        elif i == len(nums) - 1:  # edge case\n",
    "            ret.append(p_forward[i - 1])\n",
    "        else: # nums[0...i-1] * nums[i+1...]\n",
    "            ret.append(p_forward[i - 1] * p_backward[i + 1])\n",
    "    return ret"
   ]
  },
  {
   "cell_type": "markdown",
   "metadata": {},
   "source": [
    "# Decision Trees"
   ]
  },
  {
   "cell_type": "markdown",
   "metadata": {},
   "source": [
    "# Graphs"
   ]
  },
  {
   "cell_type": "markdown",
   "metadata": {},
   "source": [
    "# Hash Maps\n",
    "## Sets\n",
    "### Runtime Complexity\n",
    "| Operation                 | Method/Expression          | Average Case | Worst Case     |\n",
    "|---------------------------|----------------------------|--------------|----------------|\n",
    "| Adding an element         | `set.add(element)`         | $O(1)$     | $O(n)$       |\n",
    "| Getting an arbitrary element | `set.pop()`         | $O(1)$     | $O(n)$       |\n",
    "| Removing an element       | `set.remove(element)`      | $O(1)$     | $O(n)$       |\n",
    "| Removing an element       | `set.discard(element)`     | $O(1)$     | $O(n)$       |\n",
    "| Checking membership       | `element in set`           | $O(1)$     | $O(n)$       |\n",
    "\n",
    "&nbsp;\n",
    "\n",
    "| Operation                 | Method/Expression          | Average Case | Worst Case     |\n",
    "|---------------------------|----------------------------|--------------|----------------|\n",
    "| Set union                 | `set1 \\| set2`              | $O(len(set1) + len(set2))$ | $O(len(set1) + len(set2))$ |\n",
    "| Set union                 | `set1.union(set2)`         | $O(len(set1) + len(set2))$ | $O(len(set1) + len(set2))$ |\n",
    "| Set intersection          | `set1 & set2`              | $O(min(len(set1), len(set2)))$ | $O(min(len(set1), len(set2)))$ |\n",
    "| Set intersection          | `set1.intersection(set2)`  | $O(min(len(set1), len(set2)))$ | $O(min(len(set1), len(set2)))$ |\n",
    "| Set difference            | `set1 - set2`              | $O(len(set1))$ | $O(len(set1))$ |\n",
    "| Set difference            | `set1.difference(set2)`    | $O(len(set1))$ | $O(len(set1))$ |\n",
    "| Set symmetric difference  | `set1 ^ set2`              | $O(len(set1) + len(set2))$ | $O(len(set1) + len(set2))$ |\n",
    "| Set symmetric difference  | `set1.symmetric_difference(set2)` | $O(len(set1) + len(set2))$ | $O(len(set1) + len(set2))$ |\n",
    "| Creating a set            | `set(iterable)`            | $O(len(iterable))$ | $O(len(iterable))$ |\n",
    "\n",
    "\n",
    "## Hash Tables (dictionary)\n",
    "\n",
    "## Problems\n",
    "### Sets\n",
    "#### Longest Consecutive Sequence\n",
    "Given an unsorted array of integers `nums`, return the length of the longest consecutive elements sequence.\n",
    "\n",
    "You must write an algorithm that runs in $O(n)$ time.\n",
    "\n",
    "**Example 1:**\n",
    "```\n",
    "Input: nums = [100,4,200,1,3,2]\n",
    "Output: 4\n",
    "```\n",
    "Explanation: The longest consecutive elements sequence is [1, 2, 3, 4]. Therefore its length is 4.\n",
    "\n",
    "**Example 2:**\n",
    "```\n",
    "Input: nums = [0,3,7,2,5,8,4,6,0,1]\n",
    "Output: 9\n",
    "```"
   ]
  },
  {
   "cell_type": "code",
   "execution_count": 4,
   "metadata": {},
   "outputs": [],
   "source": [
    "def LCS(nums: list[int]) -> int:\n",
    "    \"\"\"\n",
    "    - The number of occurrence of a number is irrelevant\n",
    "    - Membership check and removal of sets is O(1)\n",
    "    \"\"\"\n",
    "    s = set(nums)\n",
    "    ret = 0\n",
    "\n",
    "    while s:  # O(n) - check all the sequences in the set\n",
    "        ele = s.pop() # choose a random starting point\n",
    "        curr = 1\n",
    "\n",
    "        # Find the start and end of the sequence ele belongs to\n",
    "        left, right = ele - 1, ele + 1  \n",
    "\n",
    "        while left in s:\n",
    "            curr += 1\n",
    "            s.remove(left)\n",
    "            left -= 1\n",
    "        while right in s:\n",
    "            curr += 1\n",
    "            s.remove(right)\n",
    "            right += 1\n",
    "\n",
    "        # Take max of all sequences\n",
    "        ret = max(ret, curr)\n",
    "    return ret"
   ]
  },
  {
   "cell_type": "markdown",
   "metadata": {},
   "source": [
    "### Hash Tables\n",
    "#### Two Sum\n",
    "Given an array of integers `nums` and an integer `target`, return indices of the two numbers such that they add up to `target`.\n",
    "\n",
    "You may assume that each input would have exactly one solution, and you may not use the same element twice.\n",
    "\n",
    "You can return the answer in any order."
   ]
  },
  {
   "cell_type": "code",
   "execution_count": 6,
   "metadata": {},
   "outputs": [],
   "source": [
    "def two_sum(nums: list[int], target: int) -> list[list[int]]:\n",
    "  d = defaultdict(list)\n",
    "\n",
    "  for i in range(len(nums)):  # O(n)\n",
    "      d[nums[i]].append(i)\n",
    "  \n",
    "  for k in d: # O(n)\n",
    "      if target - k in d:\n",
    "          if k != target - k:\n",
    "              return [d[k][0], d[target-k][0]] \n",
    "          elif len(d[k]) > 1:\n",
    "              return [d[k][0], d[k][1]]"
   ]
  },
  {
   "cell_type": "markdown",
   "metadata": {},
   "source": [
    "# Heaps"
   ]
  },
  {
   "cell_type": "markdown",
   "metadata": {},
   "source": [
    "# DP"
   ]
  }
 ],
 "metadata": {
  "kernelspec": {
   "display_name": "Python 3",
   "language": "python",
   "name": "python3"
  },
  "language_info": {
   "codemirror_mode": {
    "name": "ipython",
    "version": 3
   },
   "file_extension": ".py",
   "mimetype": "text/x-python",
   "name": "python",
   "nbconvert_exporter": "python",
   "pygments_lexer": "ipython3",
   "version": "3.12.0"
  }
 },
 "nbformat": 4,
 "nbformat_minor": 2
}
