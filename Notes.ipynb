{
 "cells": [
  {
   "cell_type": "markdown",
   "metadata": {},
   "source": [
    "# Arrays\n",
    "## Two-Pointer\n",
    "\n",
    "## Sliding Window\n",
    "\n",
    "## Prefix Sum\n",
    "### Products of Array Discluding Self\n",
    "Given an integer array `nums`, return an array output where `output[i]` is the product of all the elements of `nums` except `nums[i]`.\n",
    "\n",
    "Each product is guaranteed to fit in a 32-bit integer.\n",
    "\n",
    "Follow-up: Could you solve it in $O(n)$ time without using the division operation?\n",
    "\n",
    "**Example 1:**\n",
    "```\n",
    "Input: nums = [1,2,4,6]\n",
    "Output: [48,24,12,8]\n",
    "```\n",
    "\n",
    "**Example 2:**\n",
    "```\n",
    "Input: nums = [-1,0,1,2,3]\n",
    "Output: [0,-6,0,0,0]\n",
    "```"
   ]
  },
  {
   "cell_type": "code",
   "execution_count": null,
   "metadata": {},
   "outputs": [],
   "source": [
    "def productExceptSelf(nums: list[int]) -> list[int]:\n",
    "    # Use two prefix_sum arrays\n",
    "    p_forward = [0] * len(nums)\n",
    "    p_backward = [0] * len(nums)\n",
    "\n",
    "    p_forward[0] = nums[0]\n",
    "    p_backward[-1] = nums[-1]\n",
    "\n",
    "    for i in range(1, len(nums)): # O(n)\n",
    "        p_forward[i] = nums[i] * p_forward[i - 1]\n",
    "    for i in range(len(nums) - 2, -1, -1): # O(n)\n",
    "        p_backward[i] = nums[i] * p_backward[i + 1]\n",
    "\n",
    "    ret = []\n",
    "    for i in range(len(nums)):  # O(n)\n",
    "        if i == 0:  # edge case\n",
    "            ret.append(p_backward[i + 1])\n",
    "        elif i == len(nums) - 1:  # edge case\n",
    "            ret.append(p_forward[i - 1])\n",
    "        else: # nums[0...i-1] * nums[i+1...]\n",
    "            ret.append(p_forward[i - 1] * p_backward[i + 1])\n",
    "    return ret"
   ]
  },
  {
   "cell_type": "markdown",
   "metadata": {},
   "source": [
    "# Decision Trees"
   ]
  },
  {
   "cell_type": "markdown",
   "metadata": {},
   "source": [
    "# Graphs"
   ]
  },
  {
   "cell_type": "markdown",
   "metadata": {},
   "source": [
    "# Hash Maps\n",
    "\n",
    "## Problems\n",
    "### Sets\n",
    "#### Longest Consecutive Sequence\n",
    "Given an unsorted array of integers `nums`, return the length of the longest consecutive elements sequence.\n",
    "\n",
    "You must write an algorithm that runs in $O(n)$ time.\n",
    "\n",
    "**Example 1:**\n",
    "```\n",
    "Input: nums = [100,4,200,1,3,2]\n",
    "Output: 4\n",
    "```\n",
    "Explanation: The longest consecutive elements sequence is [1, 2, 3, 4]. Therefore its length is 4.\n",
    "\n",
    "**Example 2:**\n",
    "```\n",
    "Input: nums = [0,3,7,2,5,8,4,6,0,1]\n",
    "Output: 9\n",
    "```"
   ]
  },
  {
   "cell_type": "code",
   "execution_count": 2,
   "metadata": {},
   "outputs": [],
   "source": [
    "def LCS(nums: list[int]) -> int:\n",
    "    \"\"\"\n",
    "    - The number of occurrence of a number is irrelevant\n",
    "    - Membership check and removal of sets is O(1)\n",
    "    \"\"\"\n",
    "    s = set(nums)\n",
    "    ret = 0\n",
    "\n",
    "    while s:  # O(n) - check all the sequences in the set\n",
    "        ele = s.pop() # choose a random starting point\n",
    "        curr = 1\n",
    "\n",
    "        # Find the start and end of the sequence ele belongs to\n",
    "        left, right = ele - 1, ele + 1  \n",
    "\n",
    "        while left in s:\n",
    "            curr += 1\n",
    "            s.remove(left)\n",
    "            left -= 1\n",
    "        while right in s:\n",
    "            curr += 1\n",
    "            s.remove(right)\n",
    "            right += 1\n",
    "\n",
    "        # Take max of all sequences\n",
    "        ret = max(ret, curr)\n",
    "    return ret"
   ]
  },
  {
   "cell_type": "markdown",
   "metadata": {},
   "source": [
    "# Heaps"
   ]
  },
  {
   "cell_type": "markdown",
   "metadata": {},
   "source": [
    "# DP"
   ]
  }
 ],
 "metadata": {
  "kernelspec": {
   "display_name": "Python 3",
   "language": "python",
   "name": "python3"
  },
  "language_info": {
   "codemirror_mode": {
    "name": "ipython",
    "version": 3
   },
   "file_extension": ".py",
   "mimetype": "text/x-python",
   "name": "python",
   "nbconvert_exporter": "python",
   "pygments_lexer": "ipython3",
   "version": "3.12.0"
  }
 },
 "nbformat": 4,
 "nbformat_minor": 2
}
